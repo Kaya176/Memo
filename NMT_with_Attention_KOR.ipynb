{
 "cells": [
  {
   "cell_type": "markdown",
   "metadata": {},
   "source": [
    "## Data Part "
   ]
  },
  {
   "cell_type": "code",
   "execution_count": 1,
   "metadata": {},
   "outputs": [],
   "source": [
    "import numpy as np\n",
    "import pandas as pd\n",
    "import tensorflow as tf\n",
    "import unicodedata\n",
    "import re\n",
    "from sklearn.model_selection import train_test_split\n",
    "import os\n",
    "import time\n",
    "import matplotlib.pyplot as plt\n",
    "import matplotlib.ticker as ticker"
   ]
  },
  {
   "cell_type": "code",
   "execution_count": 2,
   "metadata": {},
   "outputs": [
    {
     "name": "stdout",
     "output_type": "stream",
     "text": [
      "[('Go.', '가.'), ('Hi.', '안녕.'), ('Run!', '뛰어!'), ('Run.', '뛰어.'), ('Who?', '누구?')]\n"
     ]
    }
   ],
   "source": [
    "def open_file(file):\n",
    "    data = []\n",
    "    with open(file,encoding = 'utf-8') as f:\n",
    "        for line in f.readlines():\n",
    "            Real=tuple(line.strip().split(sep = \"\\t\")[:2])\n",
    "            data.append(Real)\n",
    "    f.close()\n",
    "    return data\n",
    "\n",
    "file = open_file(\"kor.txt\")\n",
    "print(file[:5])"
   ]
  },
  {
   "cell_type": "code",
   "execution_count": 3,
   "metadata": {},
   "outputs": [
    {
     "name": "stdout",
     "output_type": "stream",
     "text": [
      "<start> the sooner you do it , the better it is . <end>\n",
      "<start> 더 빨리할수록 좋다 . <end>\n"
     ]
    }
   ],
   "source": [
    "def unicode_to_ascii(s):\n",
    "    return \"\".join(c for c in unicodedata.normalize(\"NFC\",s)\n",
    "                   if unicodedata.category(c) != \"Mn\")\n",
    "\n",
    "def preprocess_sentence(w):\n",
    "    w = unicode_to_ascii(w.lower().strip())\n",
    "    \n",
    "    w = re.sub(r\"([?.!,¿])\", r\" \\1 \", w)\n",
    "    w = re.sub(r'[\" \"]+', \" \", w)\n",
    "    w = re.sub(r\"[^a-zA-Z가-힣ㄱ-ㅎㅏ-ㅣ?.!,¿]+\", \" \", w)\n",
    "    w = w.strip()\n",
    "    w = '<start> ' + w + ' <end>'\n",
    "    return w\n",
    "\n",
    "en_sentence = \"The sooner you do it, the better it is.\"\n",
    "kor_sentence = \"더 빨리할수록 좋다.\"\n",
    "print(preprocess_sentence(en_sentence))\n",
    "print(preprocess_sentence(kor_sentence))"
   ]
  },
  {
   "cell_type": "code",
   "execution_count": 4,
   "metadata": {},
   "outputs": [
    {
     "name": "stdout",
     "output_type": "stream",
     "text": [
      "<start> doubtless there exists in this world precisely the right woman for any given man to marry and vice versa but when you consider that a human being has the opportunity of being acquainted with only a few hundred people , and out of the few hundred that there are but a dozen or less whom he knows intimately , and out of the dozen , one or two friends at most , it will easily be seen , when we remember the number of millions who inhabit this world , that probably , since the earth was created , the right man has never yet met the right woman . <end>\n",
      "<start> 의심의 여지 없이 세상에는 어떤 남자이든 정확히 딱 알맞는 여자와 결혼하거나 그 반대의 상황이 존재하지 . 그런데 인간이 수백 명의 사람만 알고 지내는 사이가 될 기회를 갖는다고 생각해 보면 , 또 그 수백 명 중 열여 명 쯤 이하만 잘 알 수 있고 , 그리고 나서 그 열여 명 중에 한두 명만 친구가 될 수 있다면 , 그리고 또 만일 우리가 이 세상에 살고 있는 수백만 명의 사람들만 기억하고 있다면 , 딱 맞는 남자는 지구가 생겨난 이래로 딱 맞는 여자를 단 한번도 만난 적이 없을 수도 있을 거라는 사실을 쉽게 눈치챌 수 있을 거야 . <end>\n"
     ]
    }
   ],
   "source": [
    "def create_datasets(num_examples):\n",
    "    word_pair = [[preprocess_sentence(s) for s in line] for line in file[:num_examples]]\n",
    "    return zip(*word_pair)\n",
    "\n",
    "en,kor = create_datasets(None)\n",
    "print(en[-1])\n",
    "print(kor[-1])"
   ]
  },
  {
   "cell_type": "code",
   "execution_count": 5,
   "metadata": {},
   "outputs": [],
   "source": [
    "def tokenize(lang):\n",
    "    tokenizer = tf.keras.preprocessing.text.Tokenizer(filters = '')\n",
    "    tokenizer.fit_on_texts(lang)\n",
    "    \n",
    "    tensor = tokenizer.texts_to_sequences(lang)\n",
    "    tensor = tf.keras.preprocessing.sequence.pad_sequences(tensor,padding = 'post')\n",
    "    \n",
    "    return tensor , tokenizer"
   ]
  },
  {
   "cell_type": "code",
   "execution_count": 6,
   "metadata": {},
   "outputs": [],
   "source": [
    "def load_dataset(num_examples = None):\n",
    "    tar_lang,inp_lang = create_datasets(None)\n",
    "    \n",
    "    input_tensor,input_lang_tokenizer = tokenize(inp_lang)\n",
    "    target_tensor,target_lang_tokenizer = tokenize(tar_lang)\n",
    "    return input_tensor,target_tensor, input_lang_tokenizer,target_lang_tokenizer"
   ]
  },
  {
   "cell_type": "code",
   "execution_count": 7,
   "metadata": {},
   "outputs": [],
   "source": [
    "#Test\n",
    "num_examples = 1000\n",
    "input_tensor,target_tensor,input_lang_tokenizer,target_lang_tokenizer = load_dataset(num_examples)"
   ]
  },
  {
   "cell_type": "code",
   "execution_count": 8,
   "metadata": {},
   "outputs": [],
   "source": [
    "# ALL\n",
    "input_examples = None\n",
    "input_tensor,target_tensor,input_lang_tokenizer,target_lang_tokenizer = load_dataset(num_examples)\n",
    "max_length_tar, max_length_inp = target_tensor.shape[1],input_tensor.shape[1]"
   ]
  },
  {
   "cell_type": "code",
   "execution_count": 9,
   "metadata": {},
   "outputs": [],
   "source": [
    "#Train_test_split\n",
    "input_tensor_train, input_tensor_val , target_tensor_train, target_tensor_val = train_test_split(input_tensor,target_tensor,test_size = 0.2)"
   ]
  },
  {
   "cell_type": "code",
   "execution_count": 10,
   "metadata": {},
   "outputs": [
    {
     "name": "stdout",
     "output_type": "stream",
     "text": [
      "Input_tensor_train :  2910\n",
      "Input_tensor_val :  728\n",
      "Target_tensor_train :  2910\n",
      "Target_tensor_val :  728\n"
     ]
    }
   ],
   "source": [
    "#Show Length\n",
    "print(\"Input_tensor_train : \",len(input_tensor_train))\n",
    "print(\"Input_tensor_val : \",len(input_tensor_val))\n",
    "print(\"Target_tensor_train : \",len(target_tensor_train))\n",
    "print(\"Target_tensor_val : \",len(target_tensor_val))"
   ]
  },
  {
   "cell_type": "code",
   "execution_count": 11,
   "metadata": {},
   "outputs": [
    {
     "name": "stdout",
     "output_type": "stream",
     "text": [
      "1 ----> <start>\n",
      "18 ----> 네가\n",
      "284 ----> 아는\n",
      "161 ----> 사람\n",
      "950 ----> 중에서\n",
      "111 ----> 누가\n",
      "44 ----> 가장\n",
      "1200 ----> 똑똑한\n",
      "155 ----> 사람이야\n",
      "4 ----> ?\n",
      "2 ----> <end>\n",
      "\n",
      "1 ----> <start>\n",
      "73 ----> who\n",
      "14 ----> s\n",
      "11 ----> the\n",
      "184 ----> most\n",
      "916 ----> intelligent\n",
      "128 ----> person\n",
      "7 ----> you\n",
      "46 ----> know\n",
      "8 ----> ?\n",
      "2 ----> <end>\n"
     ]
    }
   ],
   "source": [
    "def convert(lang,tensor):\n",
    "    for t in tensor:\n",
    "        if t!=0:\n",
    "            print(\"%d ----> %s\" % (t, lang.index_word[t]))\n",
    "            \n",
    "convert(input_lang_tokenizer,input_tensor_train[0])\n",
    "print()\n",
    "convert(target_lang_tokenizer,target_tensor_train[0])"
   ]
  },
  {
   "cell_type": "markdown",
   "metadata": {},
   "source": [
    "## Model Part"
   ]
  },
  {
   "cell_type": "code",
   "execution_count": 12,
   "metadata": {},
   "outputs": [],
   "source": [
    "#Initializer\n",
    "BUFFER_SIZE = len(input_tensor_train)\n",
    "BATCH_SIZE = 16\n",
    "steps_per_epoch = BUFFER_SIZE//BATCH_SIZE\n",
    "embedding_dim = 256\n",
    "units = 1024\n",
    "vocab_inp_size = len(input_lang_tokenizer.word_index)+1\n",
    "vocab_tar_size = len(target_lang_tokenizer.word_index)+1\n",
    "\n",
    "dataset = tf.data.Dataset.from_tensor_slices((input_tensor_train, target_tensor_train)).shuffle(BUFFER_SIZE)\n",
    "dataset = dataset.batch(BATCH_SIZE, drop_remainder=True)"
   ]
  },
  {
   "cell_type": "code",
   "execution_count": 13,
   "metadata": {},
   "outputs": [
    {
     "data": {
      "text/plain": [
       "(TensorShape([16, 97]), TensorShape([16, 112]))"
      ]
     },
     "execution_count": 13,
     "metadata": {},
     "output_type": "execute_result"
    }
   ],
   "source": [
    "example_input_batch, example_target_batch = next(iter(dataset))\n",
    "example_input_batch.shape, example_target_batch.shape"
   ]
  },
  {
   "cell_type": "code",
   "execution_count": 14,
   "metadata": {},
   "outputs": [],
   "source": [
    "#Encoder\n",
    "#Architecture : Embedding -> GRU + Attention -> \n",
    "class Encoder(tf.keras.Model) :\n",
    "    def __init__(self,vocab_size,embedding_dim,kor_units,batch_sz):\n",
    "        super(Encoder,self).__init__()\n",
    "        self.batch_sz = batch_sz\n",
    "        self.kor_units = kor_units\n",
    "        self.embedding = tf.keras.layers.Embedding(vocab_size,embedding_dim)\n",
    "        self.gru = tf.keras.layers.GRU(self.kor_units,\n",
    "                                      return_sequences = True,\n",
    "                                      return_state = True,\n",
    "                                      recurrent_initializer = \"glorot_uniform\")\n",
    "    def call(self,x,hidden):\n",
    "        x = self.embedding(x)\n",
    "        output, state = self.gru(x,initial_state = hidden)\n",
    "        return output,state\n",
    "    \n",
    "    def initialize_hidden_state (self):\n",
    "        return tf.zeros((self.batch_sz,self.kor_units))"
   ]
  },
  {
   "cell_type": "code",
   "execution_count": 15,
   "metadata": {},
   "outputs": [
    {
     "name": "stdout",
     "output_type": "stream",
     "text": [
      "Encoder output shape: (batch size, sequence length, units) (16, 97, 1024)\n",
      "Encoder Hidden state shape: (batch size, units) (16, 1024)\n"
     ]
    }
   ],
   "source": [
    "encoder = Encoder(vocab_inp_size,embedding_dim,units,BATCH_SIZE)\n",
    "\n",
    "#sample input\n",
    "sample_hidden = encoder.initialize_hidden_state()\n",
    "sample_output,sample_state = encoder(example_input_batch,sample_hidden)\n",
    "print ('Encoder output shape: (batch size, sequence length, units) {}'.format(sample_output.shape))\n",
    "print ('Encoder Hidden state shape: (batch size, units) {}'.format(sample_hidden.shape))"
   ]
  },
  {
   "cell_type": "code",
   "execution_count": 16,
   "metadata": {},
   "outputs": [],
   "source": [
    "class BahdanauAttention(tf.keras.layers.Layer):\n",
    "    def __init__(self,units):\n",
    "        super(BahdanauAttention,self).__init__()\n",
    "        self.W1 = tf.keras.layers.Dense(units)\n",
    "        self.W2 = tf.keras.layers.Dense(units)\n",
    "        self.V = tf.keras.layers.Dense(1)\n",
    "    \n",
    "    def call(self,query,values):\n",
    "        query_with_time_axis = tf.expand_dims(query,1)\n",
    "        \n",
    "        score = self.V(tf.nn.tanh(self.W1(query_with_time_axis)+self.W2(values)))\n",
    "        \n",
    "        attention_weight = tf.nn.softmax(score,axis = 1)\n",
    "        context_vector = attention_weight * values\n",
    "        context_vector = tf.reduce_sum(context_vector,axis = 1)\n",
    "        \n",
    "        return context_vector,attention_weight"
   ]
  },
  {
   "cell_type": "code",
   "execution_count": 17,
   "metadata": {},
   "outputs": [
    {
     "name": "stdout",
     "output_type": "stream",
     "text": [
      "Attention result shape: (batch size, units) (16, 1024)\n",
      "Attention weights shape: (batch_size, sequence_length, 1) (16, 97, 1)\n"
     ]
    }
   ],
   "source": [
    "attention_layer = BahdanauAttention(10)\n",
    "attention_result, attention_weights = attention_layer(sample_hidden, sample_output)\n",
    "\n",
    "print(\"Attention result shape: (batch size, units) {}\".format(attention_result.shape))\n",
    "print(\"Attention weights shape: (batch_size, sequence_length, 1) {}\".format(attention_weights.shape))"
   ]
  },
  {
   "cell_type": "code",
   "execution_count": 18,
   "metadata": {},
   "outputs": [],
   "source": [
    "class Decoder(tf.keras.Model):\n",
    "    def __init__(self,vocab_size,embedding_dim,dec_unit,batch_sz):\n",
    "        super(Decoder,self).__init__()\n",
    "        self.batch_sz = batch_sz\n",
    "        self.dec_units = dec_unit\n",
    "        self.embedding = tf.keras.layers.Embedding(vocab_size,embedding_dim)\n",
    "        self.gru = tf.keras.layers.GRU(self.dec_units,\n",
    "                                      return_sequences = True,\n",
    "                                      return_state = True,\n",
    "                                      recurrent_initializer = 'glorot_uniform')\n",
    "        self.fc = tf.keras.layers.Dense(vocab_size)\n",
    "        self.attention = BahdanauAttention(self.dec_units)\n",
    "    \n",
    "    def call(self,x,hidden,kor_output):\n",
    "        context_vector,attention_weights = self.attention(hidden,kor_output)\n",
    "        \n",
    "        x = self.embedding(x)\n",
    "        x = tf.concat([tf.expand_dims(context_vector,1),x],axis = -1)\n",
    "        output,state = self.gru(x)\n",
    "        output = tf.reshape(output,(-1,output.shape[2]))\n",
    "        x = self.fc(output)\n",
    "        return x,state,attention_weights"
   ]
  },
  {
   "cell_type": "code",
   "execution_count": null,
   "metadata": {},
   "outputs": [],
   "source": []
  },
  {
   "cell_type": "code",
   "execution_count": 19,
   "metadata": {},
   "outputs": [
    {
     "name": "stdout",
     "output_type": "stream",
     "text": [
      "Decoder output shape: (batch_size, vocab size) (16, 2481)\n"
     ]
    }
   ],
   "source": [
    "decoder = Decoder(vocab_tar_size, embedding_dim, units, BATCH_SIZE)\n",
    "\n",
    "sample_decoder_output, _, _ = decoder(tf.random.uniform((BATCH_SIZE, 1)),\n",
    "                                      sample_hidden, sample_output)\n",
    "\n",
    "print ('Decoder output shape: (batch_size, vocab size) {}'.format(sample_decoder_output.shape))"
   ]
  },
  {
   "cell_type": "code",
   "execution_count": 20,
   "metadata": {},
   "outputs": [],
   "source": [
    "#Define the optimizer and the loss function\n",
    "optimizer = tf.keras.optimizers.Adam()\n",
    "loss_object = tf.keras.losses.SparseCategoricalCrossentropy(from_logits=True,reduction='none')\n",
    "\n",
    "def loss_function(real, pred):\n",
    "    mask = tf.math.logical_not(tf.math.equal(real, 0))\n",
    "    loss_ = loss_object(real, pred)\n",
    "    \n",
    "    mask = tf.cast(mask, dtype=loss_.dtype)\n",
    "    loss_ *= mask\n",
    "\n",
    "    return tf.reduce_mean(loss_)"
   ]
  },
  {
   "cell_type": "code",
   "execution_count": 21,
   "metadata": {},
   "outputs": [],
   "source": [
    "checkpoint_dir = './training_checkpoints'\n",
    "checkpoint_prefix = os.path.join(checkpoint_dir, \"ckpt\")\n",
    "checkpoint = tf.train.Checkpoint(optimizer=optimizer,\n",
    "                                 encoder=encoder,\n",
    "                                 decoder=decoder)"
   ]
  },
  {
   "cell_type": "code",
   "execution_count": 22,
   "metadata": {},
   "outputs": [],
   "source": [
    "@tf.function\n",
    "def train_step(inp, targ, kor_hidden):\n",
    "    loss = 0\n",
    "    with tf.GradientTape() as tape:\n",
    "        \n",
    "        kor_output, kor_hidden = encoder(inp, kor_hidden)\n",
    "        \n",
    "        dec_hidden = kor_hidden\n",
    "        \n",
    "        dec_input = tf.expand_dims([target_lang_tokenizer.word_index['<start>']] * BATCH_SIZE, 1)\n",
    "        \n",
    "        # Teacher forcing - feeding the target as the next input\n",
    "        for t in range(1, targ.shape[1]):\n",
    "          # passing enc_output to the decoder\n",
    "            predictions, dec_hidden, _ = decoder(dec_input, dec_hidden, kor_output)\n",
    "            loss += loss_function(targ[:, t], predictions)\n",
    "\n",
    "          # using teacher forcing\n",
    "            dec_input = tf.expand_dims(targ[:, t], 1)\n",
    "\n",
    "    batch_loss = (loss / int(targ.shape[1]))\n",
    "    variables = encoder.trainable_variables + decoder.trainable_variables\n",
    "    gradients = tape.gradient(loss, variables)\n",
    "    optimizer.apply_gradients(zip(gradients, variables))\n",
    "\n",
    "    return batch_loss"
   ]
  },
  {
   "cell_type": "code",
   "execution_count": 23,
   "metadata": {},
   "outputs": [
    {
     "name": "stdout",
     "output_type": "stream",
     "text": [
      "Epoch 1 Batch 0 Loss 0.4798\n",
      "Epoch 1 Batch 100 Loss 0.3742\n",
      "Epoch 1 Loss 0.3420\n",
      "Time taken for 1 epoch 193.01 sec\n",
      "\n",
      "Epoch 2 Batch 0 Loss 0.3656\n",
      "Epoch 2 Batch 100 Loss 0.3089\n",
      "Epoch 2 Loss 0.2745\n",
      "Time taken for 1 epoch 82.25 sec\n",
      "\n",
      "Epoch 3 Batch 0 Loss 0.2774\n",
      "Epoch 3 Batch 100 Loss 0.2423\n",
      "Epoch 3 Loss 0.2422\n",
      "Time taken for 1 epoch 81.43 sec\n",
      "\n",
      "Epoch 4 Batch 0 Loss 0.2280\n",
      "Epoch 4 Batch 100 Loss 0.1818\n",
      "Epoch 4 Loss 0.2113\n",
      "Time taken for 1 epoch 82.94 sec\n",
      "\n",
      "Epoch 5 Batch 0 Loss 0.2015\n",
      "Epoch 5 Batch 100 Loss 0.2330\n",
      "Epoch 5 Loss 0.1834\n",
      "Time taken for 1 epoch 81.87 sec\n",
      "\n",
      "Epoch 6 Batch 0 Loss 0.1450\n",
      "Epoch 6 Batch 100 Loss 0.1143\n",
      "Epoch 6 Loss 0.1559\n",
      "Time taken for 1 epoch 81.38 sec\n",
      "\n",
      "Epoch 7 Batch 0 Loss 0.1678\n",
      "Epoch 7 Batch 100 Loss 0.1113\n",
      "Epoch 7 Loss 0.1287\n",
      "Time taken for 1 epoch 80.73 sec\n",
      "\n",
      "Epoch 8 Batch 0 Loss 0.1058\n",
      "Epoch 8 Batch 100 Loss 0.0972\n",
      "Epoch 8 Loss 0.1042\n",
      "Time taken for 1 epoch 81.29 sec\n",
      "\n",
      "Epoch 9 Batch 0 Loss 0.0690\n",
      "Epoch 9 Batch 100 Loss 0.1184\n",
      "Epoch 9 Loss 0.0813\n",
      "Time taken for 1 epoch 80.81 sec\n",
      "\n",
      "Epoch 10 Batch 0 Loss 0.0518\n",
      "Epoch 10 Batch 100 Loss 0.0518\n",
      "Epoch 10 Loss 0.0621\n",
      "Time taken for 1 epoch 81.31 sec\n",
      "\n",
      "Epoch 11 Batch 0 Loss 0.0382\n",
      "Epoch 11 Batch 100 Loss 0.0387\n",
      "Epoch 11 Loss 0.0481\n",
      "Time taken for 1 epoch 80.74 sec\n",
      "\n",
      "Epoch 12 Batch 0 Loss 0.0335\n",
      "Epoch 12 Batch 100 Loss 0.0379\n",
      "Epoch 12 Loss 0.0370\n",
      "Time taken for 1 epoch 83.50 sec\n",
      "\n",
      "Epoch 13 Batch 0 Loss 0.0245\n",
      "Epoch 13 Batch 100 Loss 0.0209\n",
      "Epoch 13 Loss 0.0281\n",
      "Time taken for 1 epoch 81.69 sec\n",
      "\n",
      "Epoch 14 Batch 0 Loss 0.0138\n",
      "Epoch 14 Batch 100 Loss 0.0181\n",
      "Epoch 14 Loss 0.0204\n",
      "Time taken for 1 epoch 83.96 sec\n",
      "\n",
      "Epoch 15 Batch 0 Loss 0.0101\n",
      "Epoch 15 Batch 100 Loss 0.0135\n",
      "Epoch 15 Loss 0.0147\n",
      "Time taken for 1 epoch 82.45 sec\n",
      "\n",
      "Epoch 16 Batch 0 Loss 0.0109\n",
      "Epoch 16 Batch 100 Loss 0.0154\n",
      "Epoch 16 Loss 0.0115\n",
      "Time taken for 1 epoch 82.55 sec\n",
      "\n",
      "Epoch 17 Batch 0 Loss 0.0094\n",
      "Epoch 17 Batch 100 Loss 0.0068\n",
      "Epoch 17 Loss 0.0095\n",
      "Time taken for 1 epoch 83.02 sec\n",
      "\n",
      "Epoch 18 Batch 0 Loss 0.0030\n",
      "Epoch 18 Batch 100 Loss 0.0055\n",
      "Epoch 18 Loss 0.0076\n",
      "Time taken for 1 epoch 82.76 sec\n",
      "\n",
      "Epoch 19 Batch 0 Loss 0.0024\n",
      "Epoch 19 Batch 100 Loss 0.0025\n",
      "Epoch 19 Loss 0.0060\n",
      "Time taken for 1 epoch 81.98 sec\n",
      "\n",
      "Epoch 20 Batch 0 Loss 0.0014\n",
      "Epoch 20 Batch 100 Loss 0.0037\n",
      "Epoch 20 Loss 0.0055\n",
      "Time taken for 1 epoch 82.29 sec\n",
      "\n",
      "Epoch 21 Batch 0 Loss 0.0036\n",
      "Epoch 21 Batch 100 Loss 0.0043\n",
      "Epoch 21 Loss 0.0055\n",
      "Time taken for 1 epoch 84.16 sec\n",
      "\n",
      "Epoch 22 Batch 0 Loss 0.0032\n",
      "Epoch 22 Batch 100 Loss 0.0044\n",
      "Epoch 22 Loss 0.0057\n",
      "Time taken for 1 epoch 83.28 sec\n",
      "\n",
      "Epoch 23 Batch 0 Loss 0.0071\n",
      "Epoch 23 Batch 100 Loss 0.0028\n",
      "Epoch 23 Loss 0.0074\n",
      "Time taken for 1 epoch 83.33 sec\n",
      "\n",
      "Epoch 24 Batch 0 Loss 0.0066\n",
      "Epoch 24 Batch 100 Loss 0.0026\n",
      "Epoch 24 Loss 0.0078\n",
      "Time taken for 1 epoch 83.18 sec\n",
      "\n",
      "Epoch 25 Batch 0 Loss 0.0025\n",
      "Epoch 25 Batch 100 Loss 0.0031\n",
      "Epoch 25 Loss 0.0064\n",
      "Time taken for 1 epoch 84.03 sec\n",
      "\n",
      "Epoch 26 Batch 0 Loss 0.0036\n",
      "Epoch 26 Batch 100 Loss 0.0015\n",
      "Epoch 26 Loss 0.0050\n",
      "Time taken for 1 epoch 84.43 sec\n",
      "\n",
      "Epoch 27 Batch 0 Loss 0.0037\n",
      "Epoch 27 Batch 100 Loss 0.0061\n",
      "Epoch 27 Loss 0.0048\n",
      "Time taken for 1 epoch 82.05 sec\n",
      "\n",
      "Epoch 28 Batch 0 Loss 0.0014\n",
      "Epoch 28 Batch 100 Loss 0.0060\n",
      "Epoch 28 Loss 0.0054\n",
      "Time taken for 1 epoch 82.56 sec\n",
      "\n",
      "Epoch 29 Batch 0 Loss 0.0081\n",
      "Epoch 29 Batch 100 Loss 0.0062\n",
      "Epoch 29 Loss 0.0046\n",
      "Time taken for 1 epoch 81.72 sec\n",
      "\n",
      "Epoch 30 Batch 0 Loss 0.0021\n",
      "Epoch 30 Batch 100 Loss 0.0009\n",
      "Epoch 30 Loss 0.0039\n",
      "Time taken for 1 epoch 82.00 sec\n",
      "\n"
     ]
    }
   ],
   "source": [
    "EPOCHS = 30\n",
    "\n",
    "for epoch in range(EPOCHS):\n",
    "    start = time.time()\n",
    "    kor_hidden = encoder.initialize_hidden_state()\n",
    "    total_loss = 0\n",
    "    for (batch, (inp, targ)) in enumerate(dataset.take(steps_per_epoch)):\n",
    "        batch_loss = train_step(inp, targ, kor_hidden)\n",
    "        total_loss += batch_loss\n",
    "        if batch % 100 == 0:\n",
    "            print('Epoch {} Batch {} Loss {:.4f}'.format(epoch + 1,\n",
    "                                                   batch,\n",
    "                                                   batch_loss.numpy()))\n",
    "    # saving (checkpoint) the model every 2 epochs\n",
    "    if (epoch + 1) % 2 == 0:\n",
    "        checkpoint.save(file_prefix = checkpoint_prefix)\n",
    "\n",
    "    print('Epoch {} Loss {:.4f}'.format(epoch + 1,total_loss / steps_per_epoch))\n",
    "    print('Time taken for 1 epoch {:.2f} sec\\n'.format(time.time() - start))"
   ]
  },
  {
   "cell_type": "code",
   "execution_count": 24,
   "metadata": {},
   "outputs": [],
   "source": [
    "#Evaluate\n",
    "def evaluate(sentence) :\n",
    "    attention_plot = np.zeros((max_length_tar,max_length_inp))\n",
    "    \n",
    "    #preprocessing\n",
    "    sentence = preprocess_sentence(sentence)\n",
    "    \n",
    "    inputs = [input_lang_tokenizer.word_index[i] for i in sentence.split(' ')]\n",
    "    inputs = tf.keras.preprocessing.sequence.pad_sequences([inputs],maxlen = max_length_inp,padding = 'post')\n",
    "    \n",
    "    inputs = tf.convert_to_tensor(inputs)\n",
    "    \n",
    "    result = ''\n",
    "    \n",
    "    hidden = [tf.zeros((1,units))]\n",
    "    kor_output,kor_hidden = encoder(inputs,hidden)\n",
    "    \n",
    "    dec_hidden = kor_hidden\n",
    "    dec_input = tf.expand_dims([target_lang_tokenizer.word_index['<start>']],0)\n",
    "    \n",
    "    for t in range(max_length_tar):\n",
    "        predication,dec_hidden,attention_weight = decoder(dec_input,dec_hidden,kor_output)\n",
    "        \n",
    "        attention_weights = tf.reshape(attention_weight,(-1,))\n",
    "        attention_plot[t] = attention_weights.numpy()\n",
    "        \n",
    "        predicted_id = tf.argmax(predication[0]).numpy()\n",
    "        \n",
    "        result += target_lang_tokenizer.index_word[predicted_id] + ' '\n",
    "        \n",
    "        if target_lang_tokenizer.index_word[predicted_id] =='<end>':\n",
    "            return result,sentence,attention_plot\n",
    "        \n",
    "        dec_input = tf.expand_dims([predicted_id],0)\n",
    "    return result,sentence,attention_plot"
   ]
  },
  {
   "cell_type": "code",
   "execution_count": 25,
   "metadata": {},
   "outputs": [],
   "source": [
    "def plot_attention(attention,sentence,predicated_sentence):\n",
    "    fig = plt.figure(figsize = (10,10))\n",
    "    ax = fig.add_subplot(1,1,1)\n",
    "    ax.matshow(attention,cmap = 'viridis')\n",
    "    \n",
    "    fontdict = {'fontsize' : 14}\n",
    "    \n",
    "    ax.set_xticklabels(['']+sentence,fontdict = fontdict,rotation = 90)\n",
    "    ax.set_yticklabels(['']+predicated_sentence,fontdict = fontdict)\n",
    "    \n",
    "    ax.xaxis.set_major_locator(ticker.MultipleLocator(1))\n",
    "    ax.yaxis.set_major_locator(ticker.MultipleLocator(1))\n",
    "    \n",
    "    plt.show()"
   ]
  },
  {
   "cell_type": "code",
   "execution_count": 26,
   "metadata": {},
   "outputs": [],
   "source": [
    "def translate(sentence):\n",
    "    result,sentence,attention_plot = evaluate(sentence)\n",
    "    \n",
    "    print(f\"Input : {sentence}\")\n",
    "    print(f\"Predicted translation : {result}\")\n",
    "    \n",
    "    attention_plot = attention_plot[:len(result.split(' ')),:len(sentence.split(' '))]\n",
    "    plot_attention(attention_plot,sentence.split(' '),result.split(\" \"))"
   ]
  },
  {
   "cell_type": "code",
   "execution_count": 27,
   "metadata": {},
   "outputs": [
    {
     "data": {
      "text/plain": [
       "<tensorflow.python.training.tracking.util.CheckpointLoadStatus at 0x1f39b654ec8>"
      ]
     },
     "execution_count": 27,
     "metadata": {},
     "output_type": "execute_result"
    }
   ],
   "source": [
    "checkpoint.restore(tf.train.latest_checkpoint(checkpoint_dir))"
   ]
  },
  {
   "cell_type": "code",
   "execution_count": 28,
   "metadata": {},
   "outputs": [
    {
     "data": {
      "text/plain": [
       "97"
      ]
     },
     "execution_count": 28,
     "metadata": {},
     "output_type": "execute_result"
    }
   ],
   "source": [
    "max_length_inp"
   ]
  },
  {
   "cell_type": "code",
   "execution_count": 39,
   "metadata": {},
   "outputs": [
    {
     "name": "stdout",
     "output_type": "stream",
     "text": [
      "Input : <start> 리눅스는 오픈 소스 소프트웨어야 . <end>\n",
      "Predicted translation : linux is open source . <end> \n"
     ]
    },
    {
     "name": "stderr",
     "output_type": "stream",
     "text": [
      "C:\\Users\\ing_lab\\Anaconda3\\lib\\site-packages\\matplotlib\\backends\\backend_agg.py:211: RuntimeWarning: Glyph 47532 missing from current font.\n",
      "  font.set_text(s, 0.0, flags=flags)\n",
      "C:\\Users\\ing_lab\\Anaconda3\\lib\\site-packages\\matplotlib\\backends\\backend_agg.py:211: RuntimeWarning: Glyph 45573 missing from current font.\n",
      "  font.set_text(s, 0.0, flags=flags)\n",
      "C:\\Users\\ing_lab\\Anaconda3\\lib\\site-packages\\matplotlib\\backends\\backend_agg.py:211: RuntimeWarning: Glyph 54536 missing from current font.\n",
      "  font.set_text(s, 0.0, flags=flags)\n",
      "C:\\Users\\ing_lab\\Anaconda3\\lib\\site-packages\\matplotlib\\backends\\backend_agg.py:211: RuntimeWarning: Glyph 49548 missing from current font.\n",
      "  font.set_text(s, 0.0, flags=flags)\n",
      "C:\\Users\\ing_lab\\Anaconda3\\lib\\site-packages\\matplotlib\\backends\\backend_agg.py:211: RuntimeWarning: Glyph 54532 missing from current font.\n",
      "  font.set_text(s, 0.0, flags=flags)\n",
      "C:\\Users\\ing_lab\\Anaconda3\\lib\\site-packages\\matplotlib\\backends\\backend_agg.py:211: RuntimeWarning: Glyph 53944 missing from current font.\n",
      "  font.set_text(s, 0.0, flags=flags)\n",
      "C:\\Users\\ing_lab\\Anaconda3\\lib\\site-packages\\matplotlib\\backends\\backend_agg.py:211: RuntimeWarning: Glyph 50920 missing from current font.\n",
      "  font.set_text(s, 0.0, flags=flags)\n",
      "C:\\Users\\ing_lab\\Anaconda3\\lib\\site-packages\\matplotlib\\backends\\backend_agg.py:211: RuntimeWarning: Glyph 50556 missing from current font.\n",
      "  font.set_text(s, 0.0, flags=flags)\n",
      "C:\\Users\\ing_lab\\Anaconda3\\lib\\site-packages\\matplotlib\\backends\\backend_agg.py:180: RuntimeWarning: Glyph 47532 missing from current font.\n",
      "  font.set_text(s, 0, flags=flags)\n",
      "C:\\Users\\ing_lab\\Anaconda3\\lib\\site-packages\\matplotlib\\backends\\backend_agg.py:180: RuntimeWarning: Glyph 45573 missing from current font.\n",
      "  font.set_text(s, 0, flags=flags)\n",
      "C:\\Users\\ing_lab\\Anaconda3\\lib\\site-packages\\matplotlib\\backends\\backend_agg.py:180: RuntimeWarning: Glyph 54536 missing from current font.\n",
      "  font.set_text(s, 0, flags=flags)\n",
      "C:\\Users\\ing_lab\\Anaconda3\\lib\\site-packages\\matplotlib\\backends\\backend_agg.py:180: RuntimeWarning: Glyph 49548 missing from current font.\n",
      "  font.set_text(s, 0, flags=flags)\n",
      "C:\\Users\\ing_lab\\Anaconda3\\lib\\site-packages\\matplotlib\\backends\\backend_agg.py:180: RuntimeWarning: Glyph 54532 missing from current font.\n",
      "  font.set_text(s, 0, flags=flags)\n",
      "C:\\Users\\ing_lab\\Anaconda3\\lib\\site-packages\\matplotlib\\backends\\backend_agg.py:180: RuntimeWarning: Glyph 53944 missing from current font.\n",
      "  font.set_text(s, 0, flags=flags)\n",
      "C:\\Users\\ing_lab\\Anaconda3\\lib\\site-packages\\matplotlib\\backends\\backend_agg.py:180: RuntimeWarning: Glyph 50920 missing from current font.\n",
      "  font.set_text(s, 0, flags=flags)\n",
      "C:\\Users\\ing_lab\\Anaconda3\\lib\\site-packages\\matplotlib\\backends\\backend_agg.py:180: RuntimeWarning: Glyph 50556 missing from current font.\n",
      "  font.set_text(s, 0, flags=flags)\n"
     ]
    },
    {
     "data": {
      "image/png": "[encoded data removed]",
      "text/plain": [
       "<Figure size 720x720 with 1 Axes>"
      ]
     },
     "metadata": {
      "needs_background": "light"
     },
     "output_type": "display_data"
    }
   ],
   "source": [
    "translate('리눅스는 오픈 소스 소프트웨어야.')"
   ]
  },
  {
   "cell_type": "code",
   "execution_count": null,
   "metadata": {},
   "outputs": [],
   "source": []
  }
 ],
 "metadata": {
  "kernelspec": {
   "display_name": "Python 3",
   "language": "python",
   "name": "python3"
  },
  "language_info": {
   "codemirror_mode": {
    "name": "ipython",
    "version": 3
   },
   "file_extension": ".py",
   "mimetype": "text/x-python",
   "name": "python",
   "nbconvert_exporter": "python",
   "pygments_lexer": "ipython3",
   "version": "3.7.4"
  }
 },
 "nbformat": 4,
 "nbformat_minor": 2
}
