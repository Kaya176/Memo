{
 "cells": [
  {
   "cell_type": "code",
   "execution_count": 1,
   "metadata": {},
   "outputs": [],
   "source": [
    "import tensorflow as tf"
   ]
  },
  {
   "cell_type": "code",
   "execution_count": 2,
   "metadata": {},
   "outputs": [],
   "source": [
    "from tensorflow.keras import layers\n",
    "import numpy as np"
   ]
  },
  {
   "cell_type": "markdown",
   "metadata": {},
   "source": [
    "데이터 불러오기"
   ]
  },
  {
   "cell_type": "code",
   "execution_count": 3,
   "metadata": {},
   "outputs": [],
   "source": [
    "cifar10 = tf.keras.datasets.cifar10\n",
    "(x_train,y_train),(x_test,y_test) = cifar10.load_data()"
   ]
  },
  {
   "cell_type": "markdown",
   "metadata": {},
   "source": [
    "데이터 살펴보기  \n",
    "RGB로 이루어져 있으며 훈련이터는 총 5만개임"
   ]
  },
  {
   "cell_type": "code",
   "execution_count": 4,
   "metadata": {},
   "outputs": [
    {
     "data": {
      "text/plain": [
       "(50000, 32, 32, 3)"
      ]
     },
     "execution_count": 4,
     "metadata": {},
     "output_type": "execute_result"
    }
   ],
   "source": [
    "x_train.shape"
   ]
  },
  {
   "cell_type": "code",
   "execution_count": 5,
   "metadata": {},
   "outputs": [],
   "source": [
    "image_R = x_train[:,:,:,0]\n",
    "image_G = x_train[:,:,:,1]\n",
    "image_B = x_train[:,:,:,2]"
   ]
  },
  {
   "cell_type": "code",
   "execution_count": 6,
   "metadata": {
    "scrolled": true
   },
   "outputs": [
    {
     "name": "stdout",
     "output_type": "stream",
     "text": [
      "(50000, 32, 32)\n",
      "(50000, 32, 32)\n",
      "(50000, 32, 32)\n"
     ]
    }
   ],
   "source": [
    "print(image_R.shape)\n",
    "print(image_G.shape)\n",
    "print(image_B.shape)"
   ]
  },
  {
   "cell_type": "code",
   "execution_count": 7,
   "metadata": {},
   "outputs": [
    {
     "data": {
      "text/plain": [
       "array([[ 59,  43,  50, ..., 158, 152, 148],\n",
       "       [ 16,   0,  18, ..., 123, 119, 122],\n",
       "       [ 25,  16,  49, ..., 118, 120, 109],\n",
       "       ...,\n",
       "       [208, 201, 198, ..., 160,  56,  53],\n",
       "       [180, 173, 186, ..., 184,  97,  83],\n",
       "       [177, 168, 179, ..., 216, 151, 123]], dtype=uint8)"
      ]
     },
     "execution_count": 7,
     "metadata": {},
     "output_type": "execute_result"
    }
   ],
   "source": [
    "image_R[0]"
   ]
  },
  {
   "cell_type": "code",
   "execution_count": 8,
   "metadata": {},
   "outputs": [
    {
     "data": {
      "text/plain": [
       "array([[ 62,  46,  48, ..., 132, 125, 124],\n",
       "       [ 20,   0,   8, ...,  88,  83,  87],\n",
       "       [ 24,   7,  27, ...,  84,  84,  73],\n",
       "       ...,\n",
       "       [170, 153, 161, ..., 133,  31,  34],\n",
       "       [139, 123, 144, ..., 148,  62,  53],\n",
       "       [144, 129, 142, ..., 184, 118,  92]], dtype=uint8)"
      ]
     },
     "execution_count": 8,
     "metadata": {},
     "output_type": "execute_result"
    }
   ],
   "source": [
    "image_G[0]"
   ]
  },
  {
   "cell_type": "code",
   "execution_count": 9,
   "metadata": {
    "scrolled": false
   },
   "outputs": [
    {
     "data": {
      "text/plain": [
       "array([[ 63,  45,  43, ..., 108, 102, 103],\n",
       "       [ 20,   0,   0, ...,  55,  50,  57],\n",
       "       [ 21,   0,   8, ...,  50,  50,  42],\n",
       "       ...,\n",
       "       [ 96,  34,  26, ...,  70,   7,  20],\n",
       "       [ 96,  42,  30, ...,  94,  34,  34],\n",
       "       [116,  94,  87, ..., 140,  84,  72]], dtype=uint8)"
      ]
     },
     "execution_count": 9,
     "metadata": {},
     "output_type": "execute_result"
    }
   ],
   "source": [
    "image_B[0]"
   ]
  },
  {
   "cell_type": "markdown",
   "metadata": {},
   "source": [
    "데이터 전처리"
   ]
  },
  {
   "cell_type": "code",
   "execution_count": 10,
   "metadata": {},
   "outputs": [],
   "source": [
    "#데이터 정규화\n",
    "train_image_R = x_train / 255.0"
   ]
  },
  {
   "cell_type": "code",
   "execution_count": 11,
   "metadata": {},
   "outputs": [
    {
     "data": {
      "text/plain": [
       "(50000, 32, 32, 3)"
      ]
     },
     "execution_count": 11,
     "metadata": {},
     "output_type": "execute_result"
    }
   ],
   "source": [
    "train_image_R.shape"
   ]
  },
  {
   "cell_type": "code",
   "execution_count": 12,
   "metadata": {
    "scrolled": false
   },
   "outputs": [
    {
     "data": {
      "text/plain": [
       "array([6], dtype=uint8)"
      ]
     },
     "execution_count": 12,
     "metadata": {},
     "output_type": "execute_result"
    }
   ],
   "source": [
    "y_train[0]"
   ]
  },
  {
   "cell_type": "markdown",
   "metadata": {},
   "source": [
    "개구리로 추정됨(?)"
   ]
  },
  {
   "cell_type": "code",
   "execution_count": 13,
   "metadata": {
    "scrolled": false
   },
   "outputs": [
    {
     "data": {
      "text/plain": [
       "<Figure size 640x480 with 2 Axes>"
      ]
     },
     "metadata": {},
     "output_type": "display_data"
    }
   ],
   "source": [
    "import matplotlib.pyplot as plt\n",
    "plt.figure()\n",
    "plt.imshow(x_train[0])\n",
    "plt.colorbar()\n",
    "plt.grid(False)\n",
    "plt.show()"
   ]
  },
  {
   "cell_type": "markdown",
   "metadata": {},
   "source": [
    "tenforflow의 라이브러리를 활용하여 구현 vs tensorflow만을 이용하여 구현?"
   ]
  },
  {
   "cell_type": "markdown",
   "metadata": {},
   "source": [
    "tf.keras를 이용하여 (5)층을 쌓으면서 모델 만들기"
   ]
  },
  {
   "cell_type": "code",
   "execution_count": 14,
   "metadata": {},
   "outputs": [],
   "source": [
    "model = tf.keras.Sequential([\n",
    "    tf.keras.layers.Flatten(input_shape=(32,32,3)),\n",
    "    tf.keras.layers.Dense(60, activation='relu'),\n",
    "    tf.keras.layers.Dense(60, activation='relu'),\n",
    "    tf.keras.layers.Dense(60, activation='relu'),\n",
    "    tf.keras.layers.Dense(60, activation='relu'),\n",
    "    tf.keras.layers.Dense(60, activation='relu'),\n",
    "    tf.keras.layers.Dense(10, activation='softmax')\n",
    "])"
   ]
  },
  {
   "cell_type": "code",
   "execution_count": 15,
   "metadata": {},
   "outputs": [],
   "source": [
    "model.compile(optimizer='adam', #Use Adam Optimizer\n",
    "              loss='sparse_categorical_crossentropy',\n",
    "              metrics=['accuracy'])"
   ]
  },
  {
   "cell_type": "code",
   "execution_count": 16,
   "metadata": {
    "scrolled": true
   },
   "outputs": [
    {
     "name": "stdout",
     "output_type": "stream",
     "text": [
      "Train on 50000 samples\n",
      "Epoch 1/20\n",
      "50000/50000 [==============================] - 2s 42us/sample - loss: 1.9182 - accuracy: 0.2998\n",
      "Epoch 2/20\n",
      "50000/50000 [==============================] - 1s 30us/sample - loss: 1.7399 - accuracy: 0.3724\n",
      "Epoch 3/20\n",
      "50000/50000 [==============================] - 1s 30us/sample - loss: 1.6752 - accuracy: 0.3993\n",
      "Epoch 4/20\n",
      "50000/50000 [==============================] - 1s 29us/sample - loss: 1.6204 - accuracy: 0.4173\n",
      "Epoch 5/20\n",
      "50000/50000 [==============================] - 1s 29us/sample - loss: 1.5763 - accuracy: 0.4322\n",
      "Epoch 6/20\n",
      "50000/50000 [==============================] - 2s 30us/sample - loss: 1.5484 - accuracy: 0.4433\n",
      "Epoch 7/20\n",
      "50000/50000 [==============================] - 1s 30us/sample - loss: 1.5286 - accuracy: 0.4516\n",
      "Epoch 8/20\n",
      "50000/50000 [==============================] - 2s 30us/sample - loss: 1.5095 - accuracy: 0.4573\n",
      "Epoch 9/20\n",
      "50000/50000 [==============================] - 1s 30us/sample - loss: 1.4950 - accuracy: 0.4626\n",
      "Epoch 10/20\n",
      "50000/50000 [==============================] - 2s 30us/sample - loss: 1.4731 - accuracy: 0.4712\n",
      "Epoch 11/20\n",
      "50000/50000 [==============================] - 1s 30us/sample - loss: 1.4623 - accuracy: 0.4747s - loss: 1.4605 - accu\n",
      "Epoch 12/20\n",
      "50000/50000 [==============================] - 1s 30us/sample - loss: 1.4524 - accuracy: 0.4782\n",
      "Epoch 13/20\n",
      "50000/50000 [==============================] - 1s 30us/sample - loss: 1.4367 - accuracy: 0.4839\n",
      "Epoch 14/20\n",
      "50000/50000 [==============================] - 1s 30us/sample - loss: 1.4355 - accuracy: 0.4853\n",
      "Epoch 15/20\n",
      "50000/50000 [==============================] - 2s 30us/sample - loss: 1.4194 - accuracy: 0.4920\n",
      "Epoch 16/20\n",
      "50000/50000 [==============================] - 1s 30us/sample - loss: 1.4130 - accuracy: 0.4934\n",
      "Epoch 17/20\n",
      "50000/50000 [==============================] - 2s 30us/sample - loss: 1.4086 - accuracy: 0.4959\n",
      "Epoch 18/20\n",
      "50000/50000 [==============================] - 1s 30us/sample - loss: 1.3941 - accuracy: 0.4983\n",
      "Epoch 19/20\n",
      "50000/50000 [==============================] - 1s 30us/sample - loss: 1.3932 - accuracy: 0.5012\n",
      "Epoch 20/20\n",
      "50000/50000 [==============================] - 1s 30us/sample - loss: 1.3864 - accuracy: 0.5041\n"
     ]
    },
    {
     "data": {
      "text/plain": [
       "<tensorflow.python.keras.callbacks.History at 0x14a3fcbaec8>"
      ]
     },
     "execution_count": 16,
     "metadata": {},
     "output_type": "execute_result"
    }
   ],
   "source": [
    "model.fit(train_image_R, y_train, epochs=20,batch_size = 100)"
   ]
  },
  {
   "cell_type": "code",
   "execution_count": 17,
   "metadata": {},
   "outputs": [],
   "source": [
    "test_images = x_test / np.max(x_test[0])"
   ]
  },
  {
   "cell_type": "code",
   "execution_count": 18,
   "metadata": {},
   "outputs": [
    {
     "name": "stdout",
     "output_type": "stream",
     "text": [
      "10000/1 - 1s - loss: 1.4208 - accuracy: 0.4701\n",
      "\n",
      "테스트 정확도: 47.01 %\n"
     ]
    }
   ],
   "source": [
    "test_loss, test_acc = model.evaluate(test_images,  y_test, verbose=2)\n",
    "\n",
    "print('\\n테스트 정확도:', round(test_acc*100,3),\"%\")"
   ]
  },
  {
   "cell_type": "code",
   "execution_count": null,
   "metadata": {
    "scrolled": true
   },
   "outputs": [],
   "source": [
    "#tf.keras.utils.plot_model(model)"
   ]
  },
  {
   "cell_type": "markdown",
   "metadata": {},
   "source": [
    "tf.keras를 이용하지 않고 모델 만들기"
   ]
  },
  {
   "cell_type": "code",
   "execution_count": null,
   "metadata": {},
   "outputs": [],
   "source": []
  }
 ],
 "metadata": {
  "kernelspec": {
   "display_name": "Python 3",
   "language": "python",
   "name": "python3"
  },
  "language_info": {
   "codemirror_mode": {
    "name": "ipython",
    "version": 3
   },
   "file_extension": ".py",
   "mimetype": "text/x-python",
   "name": "python",
   "nbconvert_exporter": "python",
   "pygments_lexer": "ipython3",
   "version": "3.7.4"
  }
 },
 "nbformat": 4,
 "nbformat_minor": 2
}
