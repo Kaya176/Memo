{
 "cells": [
  {
   "cell_type": "markdown",
   "metadata": {},
   "source": [
    "## 라이브러리"
   ]
  },
  {
   "cell_type": "code",
   "execution_count": 4,
   "metadata": {},
   "outputs": [],
   "source": [
    "import numpy as np\n",
    "import matplotlib.pyplot as plt"
   ]
  },
  {
   "cell_type": "markdown",
   "metadata": {},
   "source": [
    "## 1.Remark_Numpy"
   ]
  },
  {
   "cell_type": "code",
   "execution_count": 20,
   "metadata": {},
   "outputs": [
    {
     "name": "stdout",
     "output_type": "stream",
     "text": [
      "[False False  True  True  True]\n",
      "[0. 1. 2.]\n"
     ]
    }
   ],
   "source": [
    "a = np.array([-2.0, -1.0, 0 ,1.0, 2.0])\n",
    "y = (a >= 0)\n",
    "print(y)\n",
    "print(a[y])"
   ]
  },
  {
   "cell_type": "code",
   "execution_count": 24,
   "metadata": {},
   "outputs": [
    {
     "name": "stdout",
     "output_type": "stream",
     "text": [
      "[ -2.  -1. 100. 100. 100.]\n"
     ]
    }
   ],
   "source": [
    "a[y] = 100\n",
    "print(a)"
   ]
  },
  {
   "cell_type": "code",
   "execution_count": 85,
   "metadata": {},
   "outputs": [
    {
     "name": "stdout",
     "output_type": "stream",
     "text": [
      "(2,2) X (2,2) : \n",
      " [[19 22]\n",
      " [43 50]]\n",
      "(2, 3) X (3, 2) = (2, 2)\n",
      "[[14 20]\n",
      " [32 47]]\n"
     ]
    }
   ],
   "source": [
    "#dot product\n",
    "x = np.array([[1,2],[3,4]])\n",
    "y = np.array([[5,6],[7,8]])\n",
    "z = np.dot(x,y) # z(1,1) = 1*5 + 2*7 = 5 + 14 = 19\n",
    "                # z(1,2) = 1*6 + 2*8 = 6 + 16 = 22\n",
    "                # z(2,1) = 3*5 + 4*7 = 15 + 28 = 43\n",
    "                # z(2,2) = 3*6 + 4*8 = 18 + 32 = 50\n",
    "print(\"(2,2) X (2,2) : \\n\",z)\n",
    "\n",
    "#(2,3) * (3,2)\n",
    "x = np.array([[1,2,3],[4,5,6]])\n",
    "y = np.array([[1,2],[2,3],[3,4]])\n",
    "z = np.dot(x,y) #z(1,1) = 1*1 + 2*2 + 3*3 = 1 + 4 + 9 = 14\n",
    "                #z(1,2) = 1*2 + 2*3 + 3*4 = 2 + 6 + 12 = 20\n",
    "                #...\n",
    "print(x.shape , \"X\" , y.shape,'=',z.shape)\n",
    "print(z)"
   ]
  },
  {
   "cell_type": "markdown",
   "metadata": {},
   "source": [
    "## 3-2.Activation Function"
   ]
  },
  {
   "cell_type": "markdown",
   "metadata": {},
   "source": [
    "### 1.Step function"
   ]
  },
  {
   "cell_type": "code",
   "execution_count": 32,
   "metadata": {},
   "outputs": [],
   "source": [
    "def step_function(x):\n",
    "    return np.array(x>0 , dtype = np.int)"
   ]
  },
  {
   "cell_type": "code",
   "execution_count": 31,
   "metadata": {
    "scrolled": true
   },
   "outputs": [
    {
     "name": "stdout",
     "output_type": "stream",
     "text": [
      "1\n",
      "0\n",
      "0\n"
     ]
    }
   ],
   "source": [
    "print(step_function(5))\n",
    "print(step_function(-5))\n",
    "print(step_function(0))"
   ]
  },
  {
   "cell_type": "code",
   "execution_count": 49,
   "metadata": {
    "scrolled": true
   },
   "outputs": [
    {
     "data": {
      "image/png": "[encoded data removed]",
      "text/plain": [
       "<Figure size 432x288 with 1 Axes>"
      ]
     },
     "metadata": {
      "needs_background": "light"
     },
     "output_type": "display_data"
    }
   ],
   "source": [
    "x = np.arange(-5.0 , 5.0 , 0.1)\n",
    "y = step_function(x)\n",
    "plt.plot(x,y)\n",
    "plt.ylim(-0.1,1.1)\n",
    "plt.xlim(-5.1,5.1)\n",
    "plt.show()"
   ]
  },
  {
   "cell_type": "markdown",
   "metadata": {},
   "source": [
    "### 2.sigmoid"
   ]
  },
  {
   "cell_type": "code",
   "execution_count": 6,
   "metadata": {},
   "outputs": [],
   "source": [
    "def sigmoid(x):\n",
    "    y = 1/(1+np.exp(-x))\n",
    "    return y"
   ]
  },
  {
   "cell_type": "code",
   "execution_count": 21,
   "metadata": {},
   "outputs": [],
   "source": [
    "def sigmoid2(x):\n",
    "    return 1/(1+np.exp(-2*x))"
   ]
  },
  {
   "cell_type": "code",
   "execution_count": 41,
   "metadata": {},
   "outputs": [
    {
     "data": {
      "text/plain": [
       "array([0.04742587, 0.5       , 0.95257413])"
      ]
     },
     "execution_count": 41,
     "metadata": {},
     "output_type": "execute_result"
    }
   ],
   "source": [
    "sigmoid(np.array([-3,0,3]))"
   ]
  },
  {
   "cell_type": "code",
   "execution_count": 75,
   "metadata": {},
   "outputs": [
    {
     "data": {
      "image/png": "[encoded data removed]",
      "text/plain": [
       "<Figure size 432x288 with 1 Axes>"
      ]
     },
     "metadata": {
      "needs_background": "light"
     },
     "output_type": "display_data"
    }
   ],
   "source": [
    "x1 = np.arange(-5.0 , 5.0 , 0.1)\n",
    "y1 = sigmoid(x1)\n",
    "plt.plot(x1,y1)\n",
    "plt.ylim(-0.1,1.1)\n",
    "plt.xlim(-5.1,5.1)\n",
    "plt.show()"
   ]
  },
  {
   "cell_type": "code",
   "execution_count": 55,
   "metadata": {
    "scrolled": true
   },
   "outputs": [
    {
     "data": {
      "image/png": "[encoded data removed]",
      "text/plain": [
       "<Figure size 432x288 with 1 Axes>"
      ]
     },
     "metadata": {
      "needs_background": "light"
     },
     "output_type": "display_data"
    }
   ],
   "source": [
    "plt.plot(x,y,linestyle = '--',color = 'g')\n",
    "plt.plot(x1,y1,color = 'r')\n",
    "plt.ylim(-0.1,1.1)\n",
    "plt.show()"
   ]
  },
  {
   "cell_type": "markdown",
   "metadata": {},
   "source": [
    "### 3.Relu"
   ]
  },
  {
   "cell_type": "code",
   "execution_count": 18,
   "metadata": {},
   "outputs": [],
   "source": [
    "def relu(x):\n",
    "    return np.maximum(0,x)"
   ]
  },
  {
   "cell_type": "code",
   "execution_count": 77,
   "metadata": {
    "scrolled": true
   },
   "outputs": [
    {
     "data": {
      "image/png": "[encoded data removed]",
      "text/plain": [
       "<Figure size 432x288 with 1 Axes>"
      ]
     },
     "metadata": {
      "needs_background": "light"
     },
     "output_type": "display_data"
    }
   ],
   "source": [
    "x = np.arange(-5,5,0.1)\n",
    "y = relu(x)\n",
    "plt.plot(x,y)\n",
    "plt.show()"
   ]
  },
  {
   "cell_type": "markdown",
   "metadata": {},
   "source": [
    "## 3-4. Neural Network"
   ]
  },
  {
   "cell_type": "code",
   "execution_count": 8,
   "metadata": {},
   "outputs": [
    {
     "name": "stdout",
     "output_type": "stream",
     "text": [
      "s1 :  [1.51 0.94 1.77]\n",
      "Z1 :  [0.81906121 0.71909966 0.85445767]\n",
      "\n",
      "s2 :  [0.90071011 1.09615203 0.59205951]\n",
      "Z2 :  [0.71109541 0.74953842 0.64383755]\n",
      "\n",
      "s3 :  [1.49662672 1.61686534]\n",
      "Z3 :  [0.81707082 0.83436237]\n",
      "soft_max :  [0.49567722 0.50432278]\n"
     ]
    }
   ],
   "source": [
    "# 2-3-3-2\n",
    "#input data\n",
    "X = np.array([0.7 ,2.0])\n",
    "#first layer\n",
    "W1 = np.array([[0.3, 0.2, 0.1],[0.6, 0.3, 0.7]])\n",
    "b1 = np.array([0.1,0.2,0.3])\n",
    "\n",
    "s1 = np.dot(X,W1) + b1\n",
    "Z1 = sigmoid(s1)\n",
    "\n",
    "print(\"s1 : \",s1)\n",
    "print(\"Z1 : \",Z1)\n",
    "#second\n",
    "W2 = np.array([[0.4,0.5,0.2],[0.4,0.3,0.1],[0.1,0.2,0.3]])\n",
    "b2 = np.array([0.2,0.3,0.1])\n",
    "\n",
    "s2 = np.dot(Z1,W2) + b2\n",
    "Z2 = sigmoid(s2)\n",
    "\n",
    "print(\"\\ns2 : \",s2)\n",
    "print(\"Z2 : \",Z2)\n",
    "\n",
    "#output\n",
    "W3 = np.array([[0.2,0.3],[0.1,0.5],[0.9,0.2]])\n",
    "b3 = np.array([0.7,0.9])\n",
    "\n",
    "s3 = np.dot(Z2,W3) + b3\n",
    "Z3 = sigmoid(s3)\n",
    "\n",
    "print(\"\\ns3 : \",s3)\n",
    "print(\"Z3 : \",Z3)\n",
    "\n",
    "def softmax(z):\n",
    "    c = np.max(z) \n",
    "    a = np.exp(z-c) #to prevent overflow\n",
    "    sum_a = np.sum(a)\n",
    "    return a/sum_a\n",
    "\n",
    "print(\"soft_max : \" ,softmax(Z3))"
   ]
  },
  {
   "cell_type": "code",
   "execution_count": 116,
   "metadata": {},
   "outputs": [
    {
     "name": "stdout",
     "output_type": "stream",
     "text": [
      "[0.31682708 0.69627909]\n"
     ]
    }
   ],
   "source": [
    "#function Version\n",
    "def init_network():\n",
    "    network = {}\n",
    "    network[\"W1\"] = np.array([[0.1,0.3,0.5],[0.2,0.4,0.6]])\n",
    "    network[\"b1\"] = np.array([0.1,0.2,0.3])\n",
    "    network[\"W2\"] = np.array([[0.1,0.4],[0.2,0.5],[0.3,0.6]])\n",
    "    network[\"b2\"] = np.array([0.1,0.2])\n",
    "    network[\"W3\"] = np.array([[0.1,0.3],[0.2,0.4]])\n",
    "    network[\"b3\"] = np.array([0.1,0.2])\n",
    "    return network\n",
    "\n",
    "def forward(network,input_data):\n",
    "    s1 = np.dot(input_data,network[\"W1\"]) + network[\"b1\"]\n",
    "    z1 = sigmoid(s1)\n",
    "    s2 = np.dot(z1,network[\"W2\"]) + network[\"b2\"]\n",
    "    z2 = sigmoid(s2)\n",
    "    s3 = np.dot(z2,network[\"W3\"]) + network[\"b3\"]\n",
    "    z3 = sigmoid(s3)\n",
    "    result = softmax(z3)\n",
    "    return s3\n",
    "\n",
    "data = np.array([1.0 ,0.5])\n",
    "network = init_network()\n",
    "result = forward(network,data)\n",
    "print(result)"
   ]
  },
  {
   "cell_type": "markdown",
   "metadata": {},
   "source": [
    "## Example1. MNIST"
   ]
  },
  {
   "cell_type": "code",
   "execution_count": 2,
   "metadata": {},
   "outputs": [
    {
     "name": "stdout",
     "output_type": "stream",
     "text": [
      "(60000, 784)\n",
      "(60000,)\n",
      "(10000, 784)\n",
      "(10000,)\n"
     ]
    }
   ],
   "source": [
    "import sys,os\n",
    "sys.path.append(os.pardir)\n",
    "from dataset.mnist import load_mnist\n",
    "\n",
    "(x_train,y_train),(x_test,y_test) = load_mnist(flatten= True,normalize = False)\n",
    "print(x_train.shape)\n",
    "print(y_train.shape)\n",
    "print(x_test.shape)\n",
    "print(y_test.shape)"
   ]
  },
  {
   "cell_type": "code",
   "execution_count": 7,
   "metadata": {},
   "outputs": [
    {
     "name": "stdout",
     "output_type": "stream",
     "text": [
      "Accuracy : 0.9207\n",
      "time :  0.22240543365478516\n",
      "--------------------------------------------------\n",
      "Accuracy(batch) : 0.9207\n",
      "time(batch) :  0.03191494941711426\n"
     ]
    }
   ],
   "source": [
    "import pickle\n",
    "import time\n",
    "\n",
    "def get_data():\n",
    "    (x_train,y_train),(x_test,y_test) = load_mnist(flatten= True,normalize = False)\n",
    "    return x_test,y_test\n",
    "\n",
    "def init_network():\n",
    "    with open(\"sample_weight.pkl\",'rb') as f:\n",
    "        network = pickle.load(f)\n",
    "    return network\n",
    "\n",
    "def predict(network,x):\n",
    "    W1,W2,W3 = network[\"W1\"],network[\"W2\"],network[\"W3\"]\n",
    "    b1,b2,b3 = network[\"b1\"],network[\"b2\"],network[\"b3\"]\n",
    "    \n",
    "    a1 = np.dot(x,W1) + b1\n",
    "    z1 = sigmoid(a1)\n",
    "    a2 = np.dot(z1,W2) + b2\n",
    "    z2 = sigmoid(a2)\n",
    "    a3 = np.dot(z2,W3) + b3\n",
    "    y = sigmoid(a3)\n",
    "    \n",
    "    return y\n",
    "\n",
    "\n",
    "x,t =get_data()\n",
    "network = init_network()\n",
    "\n",
    "batch_size = 100\n",
    "\n",
    "acc = 0\n",
    "acc1 = 0\n",
    "\n",
    "start = time.time()\n",
    "for i in range(0,len(x)):\n",
    "    y = predict(network,x[i])\n",
    "    p = np.argmax(y) #확률이 가장 높은 인덱스 반환\n",
    "    if p == t[i]:\n",
    "        acc += 1\n",
    "t1 = time.time() - start\n",
    "\n",
    "start = time.time()\n",
    "for i in range(0,len(x),batch_size):\n",
    "    #using batch\n",
    "    x_batch = x[i:i+batch_size]\n",
    "    y_batch = predict(network,x_batch)\n",
    "    p = np.argmax(y_batch,axis = 1)\n",
    "    acc1 += np.sum(p == t[i:i+batch_size])\n",
    "t2 = time.time() - start\n",
    "\n",
    "print(\"Accuracy : \" + str(float(acc)/len(x)))\n",
    "print(\"time : \",t1)\n",
    "print(\"-\"*50)\n",
    "print(\"Accuracy(batch) : \" + str(float(acc1)/len(x)))\n",
    "print(\"time(batch) : \",t2)"
   ]
  },
  {
   "cell_type": "code",
   "execution_count": null,
   "metadata": {},
   "outputs": [],
   "source": []
  }
 ],
 "metadata": {
  "kernelspec": {
   "display_name": "Python 3",
   "language": "python",
   "name": "python3"
  },
  "language_info": {
   "codemirror_mode": {
    "name": "ipython",
    "version": 3
   },
   "file_extension": ".py",
   "mimetype": "text/x-python",
   "name": "python",
   "nbconvert_exporter": "python",
   "pygments_lexer": "ipython3",
   "version": "3.7.4"
  }
 },
 "nbformat": 4,
 "nbformat_minor": 2
}
